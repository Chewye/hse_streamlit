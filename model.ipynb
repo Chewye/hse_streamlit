{
  "cells": [
    {
      "cell_type": "markdown",
      "metadata": {
        "id": "m9QWlN-lq0qw"
      },
      "source": [
        "# Практическая работа"
      ]
    },
    {
      "cell_type": "markdown",
      "metadata": {
        "id": "4Nb7eTxYWWUe"
      },
      "source": [
        "# Задача"
      ]
    },
    {
      "cell_type": "markdown",
      "metadata": {
        "id": "ug5TQChn6KiJ"
      },
      "source": [
        "Один из способов повысить эффективность взаимодействия банка с клиентами — отправлять предложение о новой услуге не всем клиентам, а только некоторым, которые выбираются по принципу наибольшей склонности к отклику на это предложение.\n",
        "\n",
        "Задача заключается в том, чтобы предложить алгоритм, который будет выдавать склонность клиента к положительному или отрицательному отклику на предложение банка. Предполагается, что, получив такие оценки для некоторого множества клиентов, банк обратится с предложением только к тем, от кого ожидается положительный отклик.\n"
      ]
    },
    {
      "cell_type": "markdown",
      "metadata": {
        "id": "5k52FwP156I6"
      },
      "source": [
        "Для решения этой задачи загрузите файлы из базы в Postgres.\n",
        "Эта БД хранит информацию о клиентах банка и их персональные данные, такие как пол, количество детей и другие.\n",
        "\n",
        "Описание таблиц с данными представлено ниже.\n"
      ]
    },
    {
      "cell_type": "markdown",
      "metadata": {
        "id": "3HYLpuwA6dAw"
      },
      "source": [
        "**D_work**\n",
        "\n",
        "Описание статусов относительно работы:\n",
        "- ID — идентификатор социального статуса клиента относительно работы;\n",
        "- COMMENT — расшифровка статуса.\n",
        "\n",
        "\n",
        "**D_pens**\n",
        "\n",
        "Описание статусов относительно пенсии:\n",
        "- ID — идентификатор социального статуса;\n",
        "- COMMENT — расшифровка статуса.\n",
        "\n",
        "\n",
        "**D_clients**\n",
        "\n",
        "Описание данных клиентов:\n",
        "- ID — идентификатор записи;\n",
        "- AGE\t— возраст клиента;\n",
        "- GENDER — пол клиента (1 — мужчина, 0 — женщина);\n",
        "- EDUCATION — образование;\n",
        "- MARITAL_STATUS — семейное положение;\n",
        "- CHILD_TOTAL\t— количество детей клиента;\n",
        "- DEPENDANTS — количество иждивенцев клиента;\n",
        "- SOCSTATUS_WORK_FL\t— социальный статус клиента относительно работы (1 — работает, 0 — не работает);\n",
        "- SOCSTATUS_PENS_FL\t— социальный статус клиента относительно пенсии (1 — пенсионер, 0 — не пенсионер);\n",
        "- REG_ADDRESS_PROVINCE — область регистрации клиента;\n",
        "- FACT_ADDRESS_PROVINCE — область фактического пребывания клиента;\n",
        "- POSTAL_ADDRESS_PROVINCE — почтовый адрес области;\n",
        "- FL_PRESENCE_FL — наличие в собственности квартиры (1 — есть, 0 — нет);\n",
        "- OWN_AUTO — количество автомобилей в собственности.\n",
        "\n",
        "\n",
        "**D_agreement**\n",
        "\n",
        "Таблица с зафиксированными откликами клиентов на предложения банка:\n",
        "- AGREEMENT_RK — уникальный идентификатор объекта в выборке;\n",
        "- ID_CLIENT — идентификатор клиента;\n",
        "- TARGET — целевая переменная: отклик на маркетинговую кампанию (1 — отклик был зарегистрирован, 0 — отклика не было).\n",
        "    \n",
        "    \n",
        "**D_job**\n",
        "\n",
        "Описание информации о работе клиентов:\n",
        "- GEN_INDUSTRY — отрасль работы клиента;\n",
        "- GEN_TITLE — должность;\n",
        "- JOB_DIR — направление деятельности внутри компании;\n",
        "- WORK_TIME — время работы на текущем месте (в месяцах);\n",
        "- ID_CLIENT — идентификатор клиента.\n",
        "\n",
        "\n",
        "**D_salary**\n",
        "\n",
        "Описание информации о заработной плате клиентов:\n",
        "- ID_CLIENT — идентификатор клиента;\n",
        "- FAMILY_INCOME — семейный доход (несколько категорий);\n",
        "- PERSONAL_INCOME — личный доход клиента (в рублях).\n",
        "\n",
        "\n",
        "**D_last_credit**\n",
        "\n",
        "Информация о последнем займе клиента:\n",
        "- ID_CLIENT — идентификатор клиента;\n",
        "- CREDIT — сумма последнего кредита клиента (в рублях);\n",
        "- TERM — срок кредита;\n",
        "- FST_PAYMENT — первоначальный взнос (в рублях).\n",
        "\n",
        "\n",
        "**D_loan**\n",
        "\n",
        "Информация о кредитной истории клиента:\n",
        "- ID_CLIENT — идентификатор клиента;\n",
        "- ID_LOAN — идентификатор кредита.\n",
        "\n",
        "**D_close_loan**\n",
        "\n",
        "Информация о статусах кредита (ссуд):\n",
        "- ID_LOAN — идентификатор кредита;\n",
        "- CLOSED_FL — текущий статус кредита (1 — закрыт, 0 — не закрыт)."
      ]
    },
    {
      "cell_type": "markdown",
      "metadata": {
        "id": "aSCbvJeMKegU"
      },
      "source": [
        "Ниже представлен минимальный список колонок, которые должны находиться в итоговом датасете после склейки и агрегации данных. По своему усмотрению вы можете добавить дополнительные к этим колонки."
      ]
    },
    {
      "cell_type": "markdown",
      "metadata": {
        "id": "xDZKZYCtmbwi"
      },
      "source": [
        "    - AGREEMENT_RK — уникальный идентификатор объекта в выборке;\n",
        "    - TARGET — целевая переменная: отклик на маркетинговую кампанию (1 — отклик был зарегистрирован, 0 — отклика не было);\n",
        "    - AGE — возраст клиента;\n",
        "    - SOCSTATUS_WORK_FL — социальный статус клиента относительно работы (1 — работает, 0 — не работает);\n",
        "    - SOCSTATUS_PENS_FL — социальный статус клиента относительно пенсии (1 — пенсионер, 0 — не пенсионер);\n",
        "    - GENDER — пол клиента (1 — мужчина, 0 — женщина);\n",
        "    - CHILD_TOTAL — количество детей клиента;\n",
        "    - DEPENDANTS — количество иждивенцев клиента;\n",
        "    - PERSONAL_INCOME — личный доход клиента (в рублях);\n",
        "    - LOAN_NUM_TOTAL — количество ссуд клиента;\n",
        "    - LOAN_NUM_CLOSED — количество погашенных ссуд клиента.\n"
      ]
    },
    {
      "cell_type": "markdown",
      "metadata": {
        "id": "EDpojLFeAw2Y"
      },
      "source": [
        "Будьте внимательны при сборке датасета: это реальные банковские данные, в которых могут наблюдаться дубли, некорректно заполненные значения или значения, противоречащие друг другу. Для получения качественной модели необходимо предварительно очистить датасет от такой информации."
      ]
    },
    {
      "cell_type": "markdown",
      "metadata": {
        "id": "GERgJvyYmQEZ"
      },
      "source": [
        "## Задание 1\n",
        "\n",
        "В предыдущем задании вы собрали всю информацию о клиентах в одну таблицу, где одна строчка соответствует полной информации об одном клиенте.\n",
        "\n",
        "Загрузите эту таблицу."
      ]
    },
    {
      "cell_type": "code",
      "execution_count": 101,
      "metadata": {},
      "outputs": [],
      "source": [
        "import streamlit as st\n",
        "import pandas as pd\n",
        "import numpy as np\n",
        "from matplotlib import pyplot as plt\n",
        "import seaborn as sns\n",
        "from scipy import stats\n",
        "from sklearn.model_selection import train_test_split\n",
        "from sklearn.linear_model import LogisticRegression\n",
        "from sklearn.pipeline import Pipeline\n",
        "\n",
        "import warnings\n",
        "\n",
        "warnings.filterwarnings('ignore')"
      ]
    },
    {
      "cell_type": "code",
      "execution_count": 102,
      "metadata": {
        "id": "AnHaqRF4uzxP"
      },
      "outputs": [],
      "source": [
        "df = pd.read_csv('df_prepare.csv')"
      ]
    },
    {
      "cell_type": "code",
      "execution_count": 103,
      "metadata": {},
      "outputs": [],
      "source": [
        "numerical = ['AGE',\n",
        "             'WORK_TIME',\n",
        "             'PERSONAL_INCOME',\n",
        "             'CREDIT',\n",
        "             'TERM',\n",
        "             'FST_PAYMENT']\n",
        "\n",
        "id_list = ['AGREEMENT_RK',\n",
        "           'ID_CLIENT',\n",
        "           'TARGET',\n",
        "           'ID_LOAN']\n",
        "\n",
        "cat = list(df.columns)\n",
        "cat = list(set(cat) - set(numerical) - set(id_list))"
      ]
    },
    {
      "cell_type": "code",
      "execution_count": 104,
      "metadata": {},
      "outputs": [],
      "source": [
        "#Закодируем категориальные фичи\n",
        "df = pd.get_dummies(df, columns=cat)"
      ]
    },
    {
      "cell_type": "code",
      "execution_count": 105,
      "metadata": {},
      "outputs": [],
      "source": [
        "df.to_csv('./df_model.csv', index=False)"
      ]
    },
    {
      "cell_type": "markdown",
      "metadata": {
        "id": "qrbnMjIHu1hq"
      },
      "source": [
        "Разбейте данные на тренировочную и тестовую часть в пропорции 80% к 20%, зафиксируйте `random_state = 42`."
      ]
    },
    {
      "cell_type": "code",
      "execution_count": 106,
      "metadata": {
        "id": "W__PbhFeu1qC"
      },
      "outputs": [],
      "source": [
        "X_train, X_test, y_train, y_test = train_test_split(df.drop(['TARGET', 'AGREEMENT_RK', 'ID_CLIENT', 'ID_LOAN'], axis=1), df['TARGET'], test_size=0.2, random_state=42)"
      ]
    },
    {
      "cell_type": "code",
      "execution_count": null,
      "metadata": {},
      "outputs": [],
      "source": []
    },
    {
      "cell_type": "markdown",
      "metadata": {
        "id": "KlT4qPSAu-iJ"
      },
      "source": [
        "На тренировочных данных обучите линейную модель классификации для предсказания целевой переменной (столбец `TARGET`).\n",
        "\n",
        "Сделайте прогноз вероятности отклика на рекламную кампанию для тестовых данных."
      ]
    },
    {
      "cell_type": "code",
      "execution_count": 107,
      "metadata": {
        "id": "eblrenlau-qw"
      },
      "outputs": [],
      "source": [
        "model_base = LogisticRegression().fit(X_train, y_train)\n",
        "pred = model_base.predict(X_test)\n",
        "pred_prob = model_base.predict_proba(X_test)\n",
        "pred_prob_train = model_base.predict_proba(X_train)"
      ]
    },
    {
      "cell_type": "markdown",
      "metadata": {
        "id": "DU2v7ELEvgGF"
      },
      "source": [
        "Переведите вероятности в классы по стандартному порогу (0.5) и на тестовом наборе данных вычислите метрики:\n",
        "\n",
        "* accuracy\n",
        "* precision\n",
        "* recall\n",
        "* f1-score"
      ]
    },
    {
      "cell_type": "code",
      "execution_count": 108,
      "metadata": {},
      "outputs": [],
      "source": [
        "from sklearn.metrics import accuracy_score, precision_score, recall_score, f1_score"
      ]
    },
    {
      "cell_type": "code",
      "execution_count": 109,
      "metadata": {
        "id": "9Uc5AmYXvgOb"
      },
      "outputs": [],
      "source": [
        "predict = np.where(pred_prob[:, 1] < 0.5, 0, 1)"
      ]
    },
    {
      "cell_type": "code",
      "execution_count": 110,
      "metadata": {},
      "outputs": [],
      "source": [
        "def metrics(y, predict):\n",
        "    accur = accuracy_score(y, predict)\n",
        "    prec = precision_score(y, predict)\n",
        "    rec = recall_score(y, predict)\n",
        "    f1 = f1_score(y, predict)\n",
        "\n",
        "    print (f\"accuracy: {accur}\\nprecision: {prec}\\nrecall: {rec}\\nf1-score: {f1}\")"
      ]
    },
    {
      "cell_type": "code",
      "execution_count": 111,
      "metadata": {},
      "outputs": [
        {
          "name": "stdout",
          "output_type": "stream",
          "text": [
            "accuracy: 0.8760330578512396\n",
            "precision: 0.5\n",
            "recall: 0.01875\n",
            "f1-score: 0.03614457831325301\n"
          ]
        }
      ],
      "source": [
        "metrics(y_test, predict)"
      ]
    },
    {
      "cell_type": "markdown",
      "metadata": {
        "id": "Ft9XQp4Dxs-Z"
      },
      "source": [
        "Целевая метрика для задачи - полнота, так как нам нужно найти максимум клиентов, кто может откликнуться на рекламу.\n",
        "\n",
        "Но при этом точность не должна просесть, поэтому за ней тоже следим."
      ]
    },
    {
      "cell_type": "markdown",
      "metadata": {
        "id": "JFPAsh0-xWak"
      },
      "source": [
        "Разбейте тренировочные данные на `train` и `val` части в пропорции 3 к 1.\n",
        "\n",
        "В цикле:\n",
        "\n",
        "* переберите пороги от 0 до 1 с шагом 0.01\n",
        "* вычислите для каждого порога значение метрик precision и recall\n",
        "* подберите такой порог, при котором recall не меньше 0.66, а точность максимальна."
      ]
    },
    {
      "cell_type": "code",
      "execution_count": 112,
      "metadata": {},
      "outputs": [],
      "source": [
        "thr = int(pred_prob_train.shape[0]-pred_prob_train.shape[0]/3)"
      ]
    },
    {
      "cell_type": "code",
      "execution_count": 113,
      "metadata": {
        "id": "jTs9xG4AyQ5t"
      },
      "outputs": [],
      "source": [
        "prob_train = pred_prob_train[:thr]\n",
        "prob_val = pred_prob_train[thr:]\n",
        "\n",
        "y_train_= y_train[:thr]\n",
        "y_val= y_train[thr:]"
      ]
    },
    {
      "cell_type": "code",
      "execution_count": 114,
      "metadata": {},
      "outputs": [
        {
          "name": "stderr",
          "output_type": "stream",
          "text": [
            "100%|██████████| 100/100 [00:00<00:00, 317.10it/s]\n"
          ]
        }
      ],
      "source": [
        "from tqdm import tqdm\n",
        "res = []\n",
        "for i in tqdm(np.arange(0, 1, 0.01)):    \n",
        "    temp_pred = np.where(prob_train[:, 1] < i, 0, 1)\n",
        "    res.append([i, precision_score(y_train_, temp_pred), recall_score(y_train_, temp_pred), accuracy_score(y_train_, temp_pred)])\n",
        "\n",
        "res_train = pd.DataFrame(res, columns=['thr', 'precision', 'recall', 'accuracy'])"
      ]
    },
    {
      "cell_type": "code",
      "execution_count": 115,
      "metadata": {},
      "outputs": [
        {
          "data": {
            "text/html": [
              "<div>\n",
              "<style scoped>\n",
              "    .dataframe tbody tr th:only-of-type {\n",
              "        vertical-align: middle;\n",
              "    }\n",
              "\n",
              "    .dataframe tbody tr th {\n",
              "        vertical-align: top;\n",
              "    }\n",
              "\n",
              "    .dataframe thead th {\n",
              "        text-align: right;\n",
              "    }\n",
              "</style>\n",
              "<table border=\"1\" class=\"dataframe\">\n",
              "  <thead>\n",
              "    <tr style=\"text-align: right;\">\n",
              "      <th></th>\n",
              "      <th>thr</th>\n",
              "      <th>precision</th>\n",
              "      <th>recall</th>\n",
              "      <th>accuracy</th>\n",
              "    </tr>\n",
              "  </thead>\n",
              "  <tbody>\n",
              "    <tr>\n",
              "      <th>11</th>\n",
              "      <td>0.11</td>\n",
              "      <td>0.187875</td>\n",
              "      <td>0.714751</td>\n",
              "      <td>0.598896</td>\n",
              "    </tr>\n",
              "    <tr>\n",
              "      <th>10</th>\n",
              "      <td>0.10</td>\n",
              "      <td>0.180377</td>\n",
              "      <td>0.779136</td>\n",
              "      <td>0.552983</td>\n",
              "    </tr>\n",
              "    <tr>\n",
              "      <th>9</th>\n",
              "      <td>0.09</td>\n",
              "      <td>0.168352</td>\n",
              "      <td>0.814181</td>\n",
              "      <td>0.499903</td>\n",
              "    </tr>\n",
              "    <tr>\n",
              "      <th>8</th>\n",
              "      <td>0.08</td>\n",
              "      <td>0.158918</td>\n",
              "      <td>0.852486</td>\n",
              "      <td>0.446242</td>\n",
              "    </tr>\n",
              "    <tr>\n",
              "      <th>7</th>\n",
              "      <td>0.07</td>\n",
              "      <td>0.150704</td>\n",
              "      <td>0.889976</td>\n",
              "      <td>0.390837</td>\n",
              "    </tr>\n",
              "    <tr>\n",
              "      <th>6</th>\n",
              "      <td>0.06</td>\n",
              "      <td>0.142713</td>\n",
              "      <td>0.924205</td>\n",
              "      <td>0.331170</td>\n",
              "    </tr>\n",
              "    <tr>\n",
              "      <th>5</th>\n",
              "      <td>0.05</td>\n",
              "      <td>0.135748</td>\n",
              "      <td>0.955990</td>\n",
              "      <td>0.271406</td>\n",
              "    </tr>\n",
              "    <tr>\n",
              "      <th>4</th>\n",
              "      <td>0.04</td>\n",
              "      <td>0.128907</td>\n",
              "      <td>0.974735</td>\n",
              "      <td>0.214161</td>\n",
              "    </tr>\n",
              "    <tr>\n",
              "      <th>3</th>\n",
              "      <td>0.03</td>\n",
              "      <td>0.124527</td>\n",
              "      <td>0.991850</td>\n",
              "      <td>0.170283</td>\n",
              "    </tr>\n",
              "    <tr>\n",
              "      <th>2</th>\n",
              "      <td>0.02</td>\n",
              "      <td>0.120696</td>\n",
              "      <td>1.000000</td>\n",
              "      <td>0.134153</td>\n",
              "    </tr>\n",
              "    <tr>\n",
              "      <th>1</th>\n",
              "      <td>0.01</td>\n",
              "      <td>0.119057</td>\n",
              "      <td>1.000000</td>\n",
              "      <td>0.120593</td>\n",
              "    </tr>\n",
              "    <tr>\n",
              "      <th>0</th>\n",
              "      <td>0.00</td>\n",
              "      <td>0.118849</td>\n",
              "      <td>1.000000</td>\n",
              "      <td>0.118849</td>\n",
              "    </tr>\n",
              "  </tbody>\n",
              "</table>\n",
              "</div>"
            ],
            "text/plain": [
              "     thr  precision    recall  accuracy\n",
              "11  0.11   0.187875  0.714751  0.598896\n",
              "10  0.10   0.180377  0.779136  0.552983\n",
              "9   0.09   0.168352  0.814181  0.499903\n",
              "8   0.08   0.158918  0.852486  0.446242\n",
              "7   0.07   0.150704  0.889976  0.390837\n",
              "6   0.06   0.142713  0.924205  0.331170\n",
              "5   0.05   0.135748  0.955990  0.271406\n",
              "4   0.04   0.128907  0.974735  0.214161\n",
              "3   0.03   0.124527  0.991850  0.170283\n",
              "2   0.02   0.120696  1.000000  0.134153\n",
              "1   0.01   0.119057  1.000000  0.120593\n",
              "0   0.00   0.118849  1.000000  0.118849"
            ]
          },
          "execution_count": 115,
          "metadata": {},
          "output_type": "execute_result"
        }
      ],
      "source": [
        "res_train[res_train['recall'] >= 0.66].sort_values(by='accuracy', ascending=False)"
      ]
    },
    {
      "cell_type": "code",
      "execution_count": 116,
      "metadata": {},
      "outputs": [
        {
          "name": "stdout",
          "output_type": "stream",
          "text": [
            "accuracy: 0.6050745690490025\n",
            "precision: 0.1912212081703607\n",
            "recall: 0.7119741100323624\n",
            "f1-score: 0.3014731072285029\n"
          ]
        }
      ],
      "source": [
        "metrics(y_val, np.where(prob_val[:, 1] < 0.11, 0, 1))"
      ]
    },
    {
      "cell_type": "markdown",
      "metadata": {
        "id": "39s_laFMyQfN"
      },
      "source": [
        "Для выбранного порога посчитайте все метрики на тестовых данных. Сильно ли они отличаются от метрик на валидации?"
      ]
    },
    {
      "cell_type": "code",
      "execution_count": 117,
      "metadata": {
        "id": "BxeBB8ruyks8"
      },
      "outputs": [
        {
          "name": "stdout",
          "output_type": "stream",
          "text": [
            "accuracy: 0.5971074380165289\n",
            "precision: 0.18160377358490565\n",
            "recall: 0.6416666666666667\n",
            "f1-score: 0.28308823529411764\n"
          ]
        }
      ],
      "source": [
        "metrics(y_test, np.where(pred_prob[:, 1] < 0.11, 0, 1))"
      ]
    },
    {
      "cell_type": "markdown",
      "metadata": {},
      "source": [
        "посчитанные метрики по валидации и тесту отличаются, естественно не в лучшую сторону для теста. тк модель на этих данных не училась"
      ]
    },
    {
      "cell_type": "markdown",
      "metadata": {
        "id": "LH7vX8nqyj5r"
      },
      "source": [
        "Выведите на экран в виде таблицы топ-6 признаков с наибольшими по модулю весами модели."
      ]
    },
    {
      "cell_type": "code",
      "execution_count": 118,
      "metadata": {
        "id": "QxZ-IogCyxot"
      },
      "outputs": [
        {
          "data": {
            "text/html": [
              "<div>\n",
              "<style scoped>\n",
              "    .dataframe tbody tr th:only-of-type {\n",
              "        vertical-align: middle;\n",
              "    }\n",
              "\n",
              "    .dataframe tbody tr th {\n",
              "        vertical-align: top;\n",
              "    }\n",
              "\n",
              "    .dataframe thead th {\n",
              "        text-align: right;\n",
              "    }\n",
              "</style>\n",
              "<table border=\"1\" class=\"dataframe\">\n",
              "  <thead>\n",
              "    <tr style=\"text-align: right;\">\n",
              "      <th></th>\n",
              "      <th>weight_abs</th>\n",
              "    </tr>\n",
              "  </thead>\n",
              "  <tbody>\n",
              "    <tr>\n",
              "      <th>PERSONAL_INCOME</th>\n",
              "      <td>1.583226</td>\n",
              "    </tr>\n",
              "    <tr>\n",
              "      <th>POSTAL_ADDRESS_PROVINCE_Москва</th>\n",
              "      <td>1.367107</td>\n",
              "    </tr>\n",
              "    <tr>\n",
              "      <th>GEN_INDUSTRY_Недвижимость</th>\n",
              "      <td>1.215771</td>\n",
              "    </tr>\n",
              "    <tr>\n",
              "      <th>CHILD_TOTAL_5</th>\n",
              "      <td>1.197729</td>\n",
              "    </tr>\n",
              "    <tr>\n",
              "      <th>WORK_TIME</th>\n",
              "      <td>1.052504</td>\n",
              "    </tr>\n",
              "    <tr>\n",
              "      <th>FST_PAYMENT</th>\n",
              "      <td>1.040474</td>\n",
              "    </tr>\n",
              "  </tbody>\n",
              "</table>\n",
              "</div>"
            ],
            "text/plain": [
              "                                weight_abs\n",
              "PERSONAL_INCOME                   1.583226\n",
              "POSTAL_ADDRESS_PROVINCE_Москва    1.367107\n",
              "GEN_INDUSTRY_Недвижимость         1.215771\n",
              "CHILD_TOTAL_5                     1.197729\n",
              "WORK_TIME                         1.052504\n",
              "FST_PAYMENT                       1.040474"
            ]
          },
          "execution_count": 118,
          "metadata": {},
          "output_type": "execute_result"
        }
      ],
      "source": [
        "pd.DataFrame(abs(model_base.coef_.T), index=X_train.columns, columns=['weight_abs']).sort_values(by='weight_abs', ascending=False).head(6)"
      ]
    },
    {
      "cell_type": "code",
      "execution_count": 119,
      "metadata": {},
      "outputs": [],
      "source": [
        "#Для нашего приложения стримлит сохраним  модель\n",
        "\n",
        "import pickle\n",
        "\n",
        "with open('model.pickle', 'wb') as f:\n",
        "    pickle.dump(model_base, f)"
      ]
    },
    {
      "cell_type": "markdown",
      "metadata": {
        "id": "E6zYvAVE1Qfd"
      },
      "source": [
        "## Задание 2\n",
        "\n",
        "Добавьте в Streamlit-приложение визуализацию результатов модели:\n",
        "\n",
        "* опцию выбора порога и вывод метрик качества в зависимости от выбранного порога\n",
        "\n",
        "* вывод прогноза модели на выбранном объекте (клиенте) - вероятность отклика на рекламу."
      ]
    },
    {
      "cell_type": "markdown",
      "metadata": {
        "id": "XSXZmkTCy4IX"
      },
      "source": [
        "## Бонус\n",
        "\n",
        "Попробуйте применить другие модели классификации для решения этой задачи (любые какие знаете).\n",
        "\n",
        "Удалось ли добиться улучшения качества модели?"
      ]
    },
    {
      "cell_type": "code",
      "execution_count": 120,
      "metadata": {
        "id": "nuYrKTE9zDlZ"
      },
      "outputs": [],
      "source": [
        "# т.к. я леопард, то конечно же кэтбуст\n",
        "from catboost import CatBoostClassifier"
      ]
    },
    {
      "cell_type": "code",
      "execution_count": 121,
      "metadata": {},
      "outputs": [],
      "source": [
        "model = CatBoostClassifier(eval_metric='AUC')"
      ]
    },
    {
      "cell_type": "code",
      "execution_count": 122,
      "metadata": {},
      "outputs": [],
      "source": [
        "#т.к это кэтбуст то тут кодировать категориальные фичи не нужно, и нормировка не дает никаого результата, поэтому загрузим датасет без вот этого всего\n",
        "df_cat = pd.read_csv('df.csv')\n",
        "X_train, X_test, y_train, y_test = train_test_split(df_cat.drop(['TARGET', 'AGREEMENT_RK', 'ID_CLIENT', 'ID_LOAN'], axis=1), df_cat['TARGET'], test_size=0.2, random_state=42)"
      ]
    },
    {
      "cell_type": "code",
      "execution_count": 123,
      "metadata": {},
      "outputs": [
        {
          "data": {
            "application/vnd.jupyter.widget-view+json": {
              "model_id": "ce46e4c5144a4f01b7479b8fdb9bdbf1",
              "version_major": 2,
              "version_minor": 0
            },
            "text/plain": [
              "MetricVisualizer(layout=Layout(align_self='stretch', height='500px'))"
            ]
          },
          "metadata": {},
          "output_type": "display_data"
        },
        {
          "data": {
            "text/plain": [
              "<catboost.core.CatBoostClassifier at 0x7f54d5f3bc70>"
            ]
          },
          "execution_count": 123,
          "metadata": {},
          "output_type": "execute_result"
        }
      ],
      "source": [
        "model.fit(X_train, y_train, eval_set=(X_test, y_test), plot=True, verbose=False, cat_features=cat)"
      ]
    },
    {
      "cell_type": "code",
      "execution_count": 124,
      "metadata": {},
      "outputs": [
        {
          "name": "stderr",
          "output_type": "stream",
          "text": [
            "  0%|          | 0/100 [00:00<?, ?it/s]"
          ]
        },
        {
          "name": "stderr",
          "output_type": "stream",
          "text": [
            "100%|██████████| 100/100 [00:00<00:00, 604.83it/s]\n"
          ]
        },
        {
          "data": {
            "text/html": [
              "<div>\n",
              "<style scoped>\n",
              "    .dataframe tbody tr th:only-of-type {\n",
              "        vertical-align: middle;\n",
              "    }\n",
              "\n",
              "    .dataframe tbody tr th {\n",
              "        vertical-align: top;\n",
              "    }\n",
              "\n",
              "    .dataframe thead th {\n",
              "        text-align: right;\n",
              "    }\n",
              "</style>\n",
              "<table border=\"1\" class=\"dataframe\">\n",
              "  <thead>\n",
              "    <tr style=\"text-align: right;\">\n",
              "      <th></th>\n",
              "      <th>thr</th>\n",
              "      <th>precision</th>\n",
              "      <th>recall</th>\n",
              "      <th>accuracy</th>\n",
              "    </tr>\n",
              "  </thead>\n",
              "  <tbody>\n",
              "    <tr>\n",
              "      <th>12</th>\n",
              "      <td>0.12</td>\n",
              "      <td>0.295247</td>\n",
              "      <td>0.672917</td>\n",
              "      <td>0.760331</td>\n",
              "    </tr>\n",
              "    <tr>\n",
              "      <th>11</th>\n",
              "      <td>0.11</td>\n",
              "      <td>0.273539</td>\n",
              "      <td>0.702083</td>\n",
              "      <td>0.731921</td>\n",
              "    </tr>\n",
              "    <tr>\n",
              "      <th>10</th>\n",
              "      <td>0.10</td>\n",
              "      <td>0.252323</td>\n",
              "      <td>0.735417</td>\n",
              "      <td>0.697056</td>\n",
              "    </tr>\n",
              "    <tr>\n",
              "      <th>9</th>\n",
              "      <td>0.09</td>\n",
              "      <td>0.233609</td>\n",
              "      <td>0.764583</td>\n",
              "      <td>0.659866</td>\n",
              "    </tr>\n",
              "    <tr>\n",
              "      <th>8</th>\n",
              "      <td>0.08</td>\n",
              "      <td>0.218732</td>\n",
              "      <td>0.812500</td>\n",
              "      <td>0.616994</td>\n",
              "    </tr>\n",
              "    <tr>\n",
              "      <th>7</th>\n",
              "      <td>0.07</td>\n",
              "      <td>0.206397</td>\n",
              "      <td>0.860417</td>\n",
              "      <td>0.572572</td>\n",
              "    </tr>\n",
              "    <tr>\n",
              "      <th>6</th>\n",
              "      <td>0.06</td>\n",
              "      <td>0.185445</td>\n",
              "      <td>0.881250</td>\n",
              "      <td>0.505424</td>\n",
              "    </tr>\n",
              "    <tr>\n",
              "      <th>5</th>\n",
              "      <td>0.05</td>\n",
              "      <td>0.170825</td>\n",
              "      <td>0.927083</td>\n",
              "      <td>0.433110</td>\n",
              "    </tr>\n",
              "    <tr>\n",
              "      <th>4</th>\n",
              "      <td>0.04</td>\n",
              "      <td>0.155646</td>\n",
              "      <td>0.956250</td>\n",
              "      <td>0.351498</td>\n",
              "    </tr>\n",
              "    <tr>\n",
              "      <th>3</th>\n",
              "      <td>0.03</td>\n",
              "      <td>0.142944</td>\n",
              "      <td>0.977083</td>\n",
              "      <td>0.270919</td>\n",
              "    </tr>\n",
              "    <tr>\n",
              "      <th>2</th>\n",
              "      <td>0.02</td>\n",
              "      <td>0.131862</td>\n",
              "      <td>0.995833</td>\n",
              "      <td>0.186725</td>\n",
              "    </tr>\n",
              "    <tr>\n",
              "      <th>1</th>\n",
              "      <td>0.01</td>\n",
              "      <td>0.125326</td>\n",
              "      <td>1.000000</td>\n",
              "      <td>0.134814</td>\n",
              "    </tr>\n",
              "    <tr>\n",
              "      <th>0</th>\n",
              "      <td>0.00</td>\n",
              "      <td>0.123967</td>\n",
              "      <td>1.000000</td>\n",
              "      <td>0.123967</td>\n",
              "    </tr>\n",
              "  </tbody>\n",
              "</table>\n",
              "</div>"
            ],
            "text/plain": [
              "     thr  precision    recall  accuracy\n",
              "12  0.12   0.295247  0.672917  0.760331\n",
              "11  0.11   0.273539  0.702083  0.731921\n",
              "10  0.10   0.252323  0.735417  0.697056\n",
              "9   0.09   0.233609  0.764583  0.659866\n",
              "8   0.08   0.218732  0.812500  0.616994\n",
              "7   0.07   0.206397  0.860417  0.572572\n",
              "6   0.06   0.185445  0.881250  0.505424\n",
              "5   0.05   0.170825  0.927083  0.433110\n",
              "4   0.04   0.155646  0.956250  0.351498\n",
              "3   0.03   0.142944  0.977083  0.270919\n",
              "2   0.02   0.131862  0.995833  0.186725\n",
              "1   0.01   0.125326  1.000000  0.134814\n",
              "0   0.00   0.123967  1.000000  0.123967"
            ]
          },
          "execution_count": 124,
          "metadata": {},
          "output_type": "execute_result"
        }
      ],
      "source": [
        "#Повторим тот же трюк с выбором порога для чистоты эксперимента\n",
        "pred_proba_cat = model.predict_proba(X_test)\n",
        "\n",
        "res = []\n",
        "for i in tqdm(np.arange(0, 1, 0.01)):    \n",
        "    temp_pred = np.where(pred_proba_cat[:, 1] < i, 0, 1)\n",
        "    res.append([i, precision_score(y_test, temp_pred), recall_score(y_test, temp_pred), accuracy_score(y_test, temp_pred)])\n",
        "\n",
        "res = pd.DataFrame(res, columns=['thr', 'precision', 'recall', 'accuracy'])\n",
        "res[res['recall'] >= 0.66].sort_values(by='accuracy', ascending=False)"
      ]
    },
    {
      "cell_type": "code",
      "execution_count": 125,
      "metadata": {},
      "outputs": [
        {
          "name": "stdout",
          "output_type": "stream",
          "text": [
            "accuracy: 0.7319214876033058\n",
            "precision: 0.273538961038961\n",
            "recall: 0.7020833333333333\n",
            "f1-score: 0.3936915887850467\n"
          ]
        }
      ],
      "source": [
        "#Выведим метрики по старому порогу 0.11\n",
        "metrics(y_test, np.where(pred_proba_cat[:, 1] < 0.11, 0, 1))"
      ]
    },
    {
      "cell_type": "markdown",
      "metadata": {},
      "source": [
        "Конечно же результат у кэтбуста лучше, чем у линейной регрессии, и все это с базовыми параметрами на рок-ауке"
      ]
    }
  ],
  "metadata": {
    "colab": {
      "provenance": []
    },
    "kernelspec": {
      "display_name": "Python 3",
      "name": "python3"
    },
    "language_info": {
      "codemirror_mode": {
        "name": "ipython",
        "version": 3
      },
      "file_extension": ".py",
      "mimetype": "text/x-python",
      "name": "python",
      "nbconvert_exporter": "python",
      "pygments_lexer": "ipython3",
      "version": "3.9.13"
    }
  },
  "nbformat": 4,
  "nbformat_minor": 0
}
